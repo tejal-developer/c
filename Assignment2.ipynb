{
 "cells": [
  {
   "cell_type": "markdown",
   "metadata": {},
   "source": [
    "# Assignment no 2\n",
    "Name: Vishal Pattar \\\n",
    "Roll no: 33557 \\\n",
    "Class: TE AIML \\\n",
    "Subject: Artificial Neural Network"
   ]
  },
  {
   "cell_type": "code",
   "execution_count": 1,
   "metadata": {},
   "outputs": [],
   "source": [
    "# Import Python Libraries\n",
    "import numpy as np\n",
    "import matplotlib.pyplot as plt"
   ]
  },
  {
   "cell_type": "code",
   "execution_count": 2,
   "metadata": {},
   "outputs": [],
   "source": [
    "# Sigmoid Function\n",
    "def sigmoid(z):\n",
    "    return 1 / (1 + np.exp(-z))\n",
    "\n",
    "# Initialization of the neural network parameters\n",
    "def initialize_parameters(input_features, neurons_in_hidden_layers, output_features):\n",
    "    W1 = np.random.randn(neurons_in_hidden_layers, input_features)\n",
    "    W2 = np.random.randn(output_features, neurons_in_hidden_layers)\n",
    "    b1 = np.zeros((neurons_in_hidden_layers, 1))\n",
    "    b2 = np.zeros((output_features, 1))\n",
    "    \n",
    "    parameters = {\"W1\": W1, \"b1\": b1, \"W2\": W2, \"b2\": b2}\n",
    "    return parameters\n",
    "\n",
    "# Backward Propagation\n",
    "def backward_propagation(X, Y, cache):\n",
    "    m = X.shape[1]\n",
    "    Z1, A1, W1, b1, Z2, A2, W2, b2 = cache\n",
    "    \n",
    "    dZ2 = A2 - Y\n",
    "    dW2 = np.dot(dZ2, A1.T) / m\n",
    "    db2 = np.sum(dZ2, axis=1, keepdims=True)\n",
    "    \n",
    "    dA1 = np.dot(W2.T, dZ2)\n",
    "    dZ1 = np.multiply(dA1, A1 * (1 - A1))\n",
    "    dW1 = np.dot(dZ1, X.T) / m\n",
    "    db1 = np.sum(dZ1, axis=1, keepdims=True) / m\n",
    "    \n",
    "    gradients = {\"dZ2\": dZ2, \"dW2\": dW2, \"db2\": db2, \"dZ1\": dZ1, \"dW1\": dW1, \"db1\": db1}\n",
    "    return gradients\n",
    "\n",
    "# Updating the weights based on the negative gradients\n",
    "def update_parameters(parameters, gradients, learning_rate):\n",
    "    parameters[\"W1\"] = parameters[\"W1\"] - learning_rate * gradients[\"dW1\"]\n",
    "    parameters[\"W2\"] = parameters[\"W2\"] - learning_rate * gradients[\"dW2\"]\n",
    "    parameters[\"b1\"] = parameters[\"b1\"] - learning_rate * gradients[\"db1\"]\n",
    "    parameters[\"b2\"] = parameters[\"b2\"] - learning_rate * gradients[\"db2\"]\n",
    "    return parameters"
   ]
  },
  {
   "cell_type": "code",
   "execution_count": 3,
   "metadata": {},
   "outputs": [],
   "source": [
    "# Model to learn the XOR truth table\n",
    "X = np.array([[0, 0, 1, 1], [0, 1, 0, 1]])  # XOR input\n",
    "Y = np.array([[0, 1, 1, 0]])  # XOR output"
   ]
  },
  {
   "cell_type": "code",
   "execution_count": 4,
   "metadata": {},
   "outputs": [],
   "source": [
    "# Define model parameters\n",
    "neurons_in_hidden_layers = 2  # number of hidden layer neurons (2)\n",
    "input_features = X.shape[0]  # number of input features (2)\n",
    "output_features = Y.shape[0]  # number of output features (1)\n",
    "parameters = initialize_parameters(input_features, neurons_in_hidden_layers, output_features)\n",
    "epoch = 100000\n",
    "learning_rate = 0.01\n",
    "losses = np.zeros((epoch, 1))"
   ]
  },
  {
   "cell_type": "code",
   "execution_count": 5,
   "metadata": {},
   "outputs": [],
   "source": [
    "for i in range(epoch):\n",
    "    # Forward Propagation\n",
    "    m = X.shape[1]\n",
    "    W1, W2, b1, b2 = parameters[\"W1\"], parameters[\"W2\"], parameters[\"b1\"], parameters[\"b2\"]\n",
    "\n",
    "    Z1 = np.dot(W1, X) + b1\n",
    "    A1 = sigmoid(Z1)\n",
    "    Z2 = np.dot(W2, A1) + b2\n",
    "    A2 = sigmoid(Z2)\n",
    "\n",
    "    cache = (Z1, A1, W1, b1, Z2, A2, W2, b2)\n",
    "    logprobs = np.multiply(np.log(A2), Y) + np.multiply(np.log(1 - A2), (1 - Y))\n",
    "    cost = -np.sum(logprobs) / m\n",
    "    \n",
    "    # Backward Propagation\n",
    "    gradients = backward_propagation(X, Y, cache)\n",
    "    \n",
    "    # Updating the weights\n",
    "    parameters = update_parameters(parameters, gradients, learning_rate)\n",
    "\n",
    "    # Store the loss for plotting\n",
    "    losses[i, 0] = cost"
   ]
  },
  {
   "cell_type": "code",
   "execution_count": 6,
   "metadata": {},
   "outputs": [
    {
     "data": {
      "image/png": "[encoded data removed]",
      "text/plain": [
       "<Figure size 640x480 with 1 Axes>"
      ]
     },
     "metadata": {},
     "output_type": "display_data"
    },
    {
     "name": "stdout",
     "output_type": "stream",
     "text": [
      "[[1. 0. 0. 1.]]\n"
     ]
    }
   ],
   "source": [
    "# Evaluating the performance\n",
    "plt.figure()\n",
    "plt.plot(losses)\n",
    "plt.xlabel(\"EPOCHS\")\n",
    "plt.ylabel(\"Loss value\")\n",
    "plt.show()\n",
    "\n",
    "# Testing\n",
    "X_test = np.array([[1, 1, 0, 0], [0, 1, 0, 1]])  # XOR input for testing\n",
    "Z1_test = np.dot(parameters[\"W1\"], X_test) + parameters[\"b1\"]\n",
    "A1_test = sigmoid(Z1_test)\n",
    "Z2_test = np.dot(parameters[\"W2\"], A1_test) + parameters[\"b2\"]\n",
    "A2_test = sigmoid(Z2_test)\n",
    "prediction = (A2_test > 0.5) * 1.0\n",
    "print(prediction)"
   ]
  }
 ],
 "metadata": {
  "kernelspec": {
   "display_name": "Python 3",
   "language": "python",
   "name": "python3"
  },
  "language_info": {
   "codemirror_mode": {
    "name": "ipython",
    "version": 3
   },
   "file_extension": ".py",
   "mimetype": "text/x-python",
   "name": "python",
   "nbconvert_exporter": "python",
   "pygments_lexer": "ipython3",
   "version": "3.11.5"
  }
 },
 "nbformat": 4,
 "nbformat_minor": 2
}
